{
 "cells": [
  {
   "cell_type": "code",
   "execution_count": 2,
   "id": "ac2523df",
   "metadata": {},
   "outputs": [],
   "source": [
    "x=[1,3,4,2,6,5,3,4,5,2]"
   ]
  },
  {
   "cell_type": "code",
   "execution_count": 8,
   "id": "02827c27",
   "metadata": {},
   "outputs": [
    {
     "name": "stdout",
     "output_type": "stream",
     "text": [
      "2.25\n",
      "1.5\n"
     ]
    }
   ],
   "source": [
    "import statistics\n",
    "\n",
    "print(statistics.pvariance(x))\n",
    "\n",
    "print(statistics.pstdev(x))"
   ]
  },
  {
   "cell_type": "code",
   "execution_count": null,
   "id": "27a64feb",
   "metadata": {},
   "outputs": [],
   "source": []
  }
 ],
 "metadata": {
  "kernelspec": {
   "display_name": "Python 3 (ipykernel)",
   "language": "python",
   "name": "python3"
  },
  "language_info": {
   "codemirror_mode": {
    "name": "ipython",
    "version": 3
   },
   "file_extension": ".py",
   "mimetype": "text/x-python",
   "name": "python",
   "nbconvert_exporter": "python",
   "pygments_lexer": "ipython3",
   "version": "3.9.12"
  }
 },
 "nbformat": 4,
 "nbformat_minor": 5
}
