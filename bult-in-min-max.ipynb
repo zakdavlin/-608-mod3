{
 "cells": [
  {
   "cell_type": "code",
   "execution_count": 1,
   "id": "48d0493c",
   "metadata": {},
   "outputs": [
    {
     "data": {
      "text/plain": [
       "11"
      ]
     },
     "execution_count": 1,
     "metadata": {},
     "output_type": "execute_result"
    }
   ],
   "source": [
    "x=[7,10,11]\n",
    "max(x)"
   ]
  },
  {
   "cell_type": "code",
   "execution_count": 2,
   "id": "57f557ce",
   "metadata": {},
   "outputs": [
    {
     "data": {
      "text/plain": [
       "7"
      ]
     },
     "execution_count": 2,
     "metadata": {},
     "output_type": "execute_result"
    }
   ],
   "source": [
    "min(x)"
   ]
  },
  {
   "cell_type": "code",
   "execution_count": 44,
   "id": "f853f3ef",
   "metadata": {},
   "outputs": [],
   "source": [
    "def minimum(y):\n",
    "    minimumNum=y[0]\n",
    "    for x in y:\n",
    "        if x<minimumNum:\n",
    "            minimumNum=x\n",
    "    return minimumNum\n",
    "        \n",
    "\n",
    "        \n",
    "            "
   ]
  },
  {
   "cell_type": "code",
   "execution_count": 34,
   "id": "b94391ff",
   "metadata": {},
   "outputs": [
    {
     "data": {
      "text/plain": [
       "7"
      ]
     },
     "execution_count": 34,
     "metadata": {},
     "output_type": "execute_result"
    }
   ],
   "source": [
    "minimum(x)"
   ]
  },
  {
   "cell_type": "code",
   "execution_count": 40,
   "id": "9a661828",
   "metadata": {},
   "outputs": [],
   "source": [
    "x=(15,9,27,14)"
   ]
  },
  {
   "cell_type": "code",
   "execution_count": 42,
   "id": "de6fee85",
   "metadata": {},
   "outputs": [
    {
     "data": {
      "text/plain": [
       "9"
      ]
     },
     "execution_count": 42,
     "metadata": {},
     "output_type": "execute_result"
    }
   ],
   "source": [
    "min(x)"
   ]
  },
  {
   "cell_type": "code",
   "execution_count": null,
   "id": "e9a5f44e",
   "metadata": {},
   "outputs": [],
   "source": []
  }
 ],
 "metadata": {
  "kernelspec": {
   "display_name": "Python 3 (ipykernel)",
   "language": "python",
   "name": "python3"
  },
  "language_info": {
   "codemirror_mode": {
    "name": "ipython",
    "version": 3
   },
   "file_extension": ".py",
   "mimetype": "text/x-python",
   "name": "python",
   "nbconvert_exporter": "python",
   "pygments_lexer": "ipython3",
   "version": "3.9.12"
  }
 },
 "nbformat": 4,
 "nbformat_minor": 5
}
