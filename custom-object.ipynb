{
 "cells": [
  {
   "cell_type": "code",
   "execution_count": 15,
   "id": "d6e8bd5f",
   "metadata": {},
   "outputs": [],
   "source": [
    "class Purchase(object):\n",
    "    def __init__(self,amount):\n",
    "        self.amount=amount\n",
    "    def calculateTax(self,taxPercent):\n",
    "        return self.amount*taxPercent/100.0\n",
    "    def calculateTip(self,tipPercent):\n",
    "        return self.amount*tipPercent/100.0\n",
    "    def calculateTotal(self,taxPercent,tipPercent):\n",
    "        return self.amount*(1+taxPercent/100.0+tipPercent/100.0)"
   ]
  },
  {
   "cell_type": "code",
   "execution_count": 17,
   "id": "65fa172d",
   "metadata": {},
   "outputs": [
    {
     "name": "stdout",
     "output_type": "stream",
     "text": [
      "Tax: 7.5\n",
      "Tip: 20.0\n",
      "Total: 127.49999999999999\n"
     ]
    }
   ],
   "source": [
    "purchase= Purchase(100.0)\n",
    "taxPercent=7.5\n",
    "tipPercent=20.0\n",
    "\n",
    "tax=purchase.calculateTax(taxPercent)\n",
    "tip=purchase.calculateTip(tipPercent)\n",
    "\n",
    "print ('Tax:',tax)\n",
    "print ('Tip:',tip)\n",
    "print('Total:',purchase.calculateTotal(taxPercent,tipPercent))"
   ]
  },
  {
   "cell_type": "code",
   "execution_count": null,
   "id": "d6270445",
   "metadata": {},
   "outputs": [],
   "source": []
  }
 ],
 "metadata": {
  "kernelspec": {
   "display_name": "Python 3 (ipykernel)",
   "language": "python",
   "name": "python3"
  },
  "language_info": {
   "codemirror_mode": {
    "name": "ipython",
    "version": 3
   },
   "file_extension": ".py",
   "mimetype": "text/x-python",
   "name": "python",
   "nbconvert_exporter": "python",
   "pygments_lexer": "ipython3",
   "version": "3.9.12"
  }
 },
 "nbformat": 4,
 "nbformat_minor": 5
}
