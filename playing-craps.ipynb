{
 "cells": [
  {
   "cell_type": "code",
   "execution_count": 3,
   "id": "868bd6b2",
   "metadata": {},
   "outputs": [
    {
     "name": "stdout",
     "output_type": "stream",
     "text": [
      "sumofdice    Frequency\n",
      "   2       166019\n",
      "   3       333065\n",
      "   4       500380\n",
      "   5       667393\n",
      "   6       832806\n",
      "   7       999437\n",
      "   8       833182\n",
      "   9       667081\n",
      "  10       501249\n",
      "  11       332951\n",
      "  12       166437\n"
     ]
    }
   ],
   "source": [
    "import random\n",
    "\n",
    "#starting counters\n",
    "frequency2=0\n",
    "frequency3=0\n",
    "frequency4=0\n",
    "frequency5=0\n",
    "frequency6=0\n",
    "frequency7=0\n",
    "frequency8=0\n",
    "frequency9=0\n",
    "frequency10=0\n",
    "frequency11=0\n",
    "frequency12=0\n",
    "\n",
    "#Roll adds two 6 sided dice\n",
    "for roll in range(6_000_000):\n",
    "    sumofdice = random.randrange(1,7)+random.randrange(1,7)\n",
    "    \n",
    "    if sumofdice==2:\n",
    "        frequency2 +=1\n",
    "    elif sumofdice==3:\n",
    "        frequency3 +=1\n",
    "    elif sumofdice==4:\n",
    "        frequency4 +=1\n",
    "    elif sumofdice==5:\n",
    "        frequency5 +=1\n",
    "    elif sumofdice==6:\n",
    "        frequency6 +=1\n",
    "    elif sumofdice==7:\n",
    "        frequency7 +=1\n",
    "    elif sumofdice==8:\n",
    "        frequency8 +=1\n",
    "    elif sumofdice==9:\n",
    "        frequency9 +=1\n",
    "    elif sumofdice==10:\n",
    "        frequency10 +=1\n",
    "    elif sumofdice==11:\n",
    "        frequency11 +=1\n",
    "    elif sumofdice==12:\n",
    "        frequency12 +=1\n",
    "        \n",
    "print(f'sumofdice{\"Frequency\":>13}')\n",
    "print(f'{2:>4}{frequency2:>13}')\n",
    "print(f'{3:>4}{frequency3:>13}')\n",
    "print(f'{4:>4}{frequency4:>13}')\n",
    "print(f'{5:>4}{frequency5:>13}')\n",
    "print(f'{6:>4}{frequency6:>13}')\n",
    "print(f'{7:>4}{frequency7:>13}')\n",
    "print(f'{8:>4}{frequency8:>13}')\n",
    "print(f'{9:>4}{frequency9:>13}')\n",
    "print(f'{10:>4}{frequency10:>13}')\n",
    "print(f'{11:>4}{frequency11:>13}')\n",
    "print(f'{12:>4}{frequency12:>13}')\n",
    "    "
   ]
  },
  {
   "cell_type": "code",
   "execution_count": 10,
   "id": "4bb1baa0",
   "metadata": {},
   "outputs": [
    {
     "name": "stdout",
     "output_type": "stream",
     "text": [
      "percentatge of losses 11.092016666666666 %\n"
     ]
    }
   ],
   "source": [
    "loser=((frequency2+frequency3+frequency12)/6000000)\n",
    "\n",
    "print(\"percentatge of losses\",loser*100,\"%\")\n"
   ]
  },
  {
   "cell_type": "code",
   "execution_count": 6,
   "id": "5dbd04a3",
   "metadata": {},
   "outputs": [
    {
     "name": "stdout",
     "output_type": "stream",
     "text": [
      "6000000\n"
     ]
    }
   ],
   "source": [
    "#check amount of rolls\n",
    "total=frequency2+frequency3+frequency4+frequency5+frequency6+frequency7+frequency8+frequency9+frequency10+frequency11+frequency12\n",
    "print(total)"
   ]
  },
  {
   "cell_type": "code",
   "execution_count": 11,
   "id": "2dfedc41",
   "metadata": {},
   "outputs": [
    {
     "name": "stdout",
     "output_type": "stream",
     "text": [
      "percentatge of wins 22.206466666666667 %\n"
     ]
    }
   ],
   "source": [
    "win=((frequency7+frequency11)/6000000)\n",
    "print(\"percentatge of wins\",win*100,\"%\")"
   ]
  },
  {
   "cell_type": "code",
   "execution_count": null,
   "id": "5b464f51",
   "metadata": {},
   "outputs": [],
   "source": []
  }
 ],
 "metadata": {
  "kernelspec": {
   "display_name": "Python 3 (ipykernel)",
   "language": "python",
   "name": "python3"
  },
  "language_info": {
   "codemirror_mode": {
    "name": "ipython",
    "version": 3
   },
   "file_extension": ".py",
   "mimetype": "text/x-python",
   "name": "python",
   "nbconvert_exporter": "python",
   "pygments_lexer": "ipython3",
   "version": "3.9.12"
  }
 },
 "nbformat": 4,
 "nbformat_minor": 5
}
